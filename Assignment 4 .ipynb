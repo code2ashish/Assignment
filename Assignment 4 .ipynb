{
 "cells": [
  {
   "cell_type": "markdown",
   "metadata": {},
   "source": [
    "# Q1.1\n"
   ]
  },
  {
   "cell_type": "code",
   "execution_count": 1,
   "metadata": {},
   "outputs": [
    {
     "name": "stdout",
     "output_type": "stream",
     "text": [
      "Enter side 1: 3\n",
      "Enter side 2: 4\n",
      "Enter side 3: 5\n",
      "Perimeter of Triangle: 12\n",
      "Area of Triagle      : 6.0\n"
     ]
    }
   ],
   "source": [
    "class Triangle:\n",
    "    def __init__(self,a,b,c):\n",
    "        self.a=a\n",
    "        self.b=b\n",
    "        self.c=c\n",
    "\n",
    "class Triops(Triangle):\n",
    "    def Area(self):\n",
    "        sp= (self.a+self.b+self.c)/2\n",
    "        return (sp*(sp-self.a)*(sp-self.b)*(sp-self.c))**0.5\n",
    "    \n",
    "    def Perimeter(self):\n",
    "        return (self.a+self.b+self.c)\n",
    "    \n",
    "a=int(input(\"Enter side 1: \"))\n",
    "b=int(input(\"Enter side 2: \"))\n",
    "c=int(input(\"Enter side 3: \"))\n",
    "t2= Triops(a,b,c)\n",
    "print(\"Perimeter of Triangle:\",t2.Perimeter())\n",
    "print(\"Area of Triagle      :\",t2.Area())"
   ]
  },
  {
   "cell_type": "markdown",
   "metadata": {},
   "source": [
    "# Q1.2"
   ]
  },
  {
   "cell_type": "code",
   "execution_count": 51,
   "metadata": {},
   "outputs": [],
   "source": [
    "l=[\"Ashish\",\"India\",\"Rajasthan\",\"Jaipur\",\"Jodhpur\",\"Delhi\",\"Mumbai\"]\n",
    "def filter_long_words(n,arg):\n",
    "    el=[]\n",
    "    for i in arg:\n",
    "        if len(i)>=n:\n",
    "            el.append(i)\n",
    "    return el\n",
    "            "
   ]
  },
  {
   "cell_type": "code",
   "execution_count": 54,
   "metadata": {},
   "outputs": [
    {
     "data": {
      "text/plain": [
       "['Rajasthan', 'Jodhpur']"
      ]
     },
     "execution_count": 54,
     "metadata": {},
     "output_type": "execute_result"
    }
   ],
   "source": [
    "filter_long_words(7,l)"
   ]
  },
  {
   "cell_type": "markdown",
   "metadata": {},
   "source": [
    "# Q.2.1"
   ]
  },
  {
   "cell_type": "code",
   "execution_count": 4,
   "metadata": {},
   "outputs": [],
   "source": [
    "l=[\"a\",'BC','yrgth','jshy','khdutrgbh']\n",
    "def lenth(arg):\n",
    "    li=[]\n",
    "    for i in arg:\n",
    "        li.append(len(i))\n",
    "    return li"
   ]
  },
  {
   "cell_type": "code",
   "execution_count": 5,
   "metadata": {},
   "outputs": [
    {
     "data": {
      "text/plain": [
       "[1, 2, 5, 4, 9]"
      ]
     },
     "execution_count": 5,
     "metadata": {},
     "output_type": "execute_result"
    }
   ],
   "source": [
    "lenth(l)"
   ]
  },
  {
   "cell_type": "markdown",
   "metadata": {},
   "source": [
    "# Q.2.2"
   ]
  },
  {
   "cell_type": "code",
   "execution_count": 44,
   "metadata": {},
   "outputs": [],
   "source": [
    "def is_vow(arg):\n",
    "    arg=arg.upper()\n",
    "    if (arg==\"A\" or arg==\"E\" or arg==\"I\" or arg==\"O\" or arg==\"U\") :\n",
    "        return True\n",
    "    else:\n",
    "        return False"
   ]
  },
  {
   "cell_type": "code",
   "execution_count": 48,
   "metadata": {},
   "outputs": [
    {
     "data": {
      "text/plain": [
       "True"
      ]
     },
     "execution_count": 48,
     "metadata": {},
     "output_type": "execute_result"
    }
   ],
   "source": [
    "is_vow(\"O\")"
   ]
  }
 ],
 "metadata": {
  "kernelspec": {
   "display_name": "Python 3",
   "language": "python",
   "name": "python3"
  },
  "language_info": {
   "codemirror_mode": {
    "name": "ipython",
    "version": 3
   },
   "file_extension": ".py",
   "mimetype": "text/x-python",
   "name": "python",
   "nbconvert_exporter": "python",
   "pygments_lexer": "ipython3",
   "version": "3.8.5"
  }
 },
 "nbformat": 4,
 "nbformat_minor": 4
}
