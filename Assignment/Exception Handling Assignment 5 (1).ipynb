{
 "cells": [
  {
   "cell_type": "markdown",
   "metadata": {},
   "source": [
    "# Q.1"
   ]
  },
  {
   "cell_type": "code",
   "execution_count": 5,
   "metadata": {},
   "outputs": [
    {
     "name": "stdout",
     "output_type": "stream",
     "text": [
      "Enter a number: 0\n",
      "This Devision is not possible.\n"
     ]
    }
   ],
   "source": [
    "try:\n",
    "    a= int(input(\"Enter a number: \"))\n",
    "    print(\"5/number=\",5/a)\n",
    "except:\n",
    "    print(\"This Devision is not possible.\")"
   ]
  },
  {
   "cell_type": "markdown",
   "metadata": {},
   "source": [
    "# Q.2"
   ]
  },
  {
   "cell_type": "code",
   "execution_count": 20,
   "metadata": {},
   "outputs": [
    {
     "name": "stdout",
     "output_type": "stream",
     "text": [
      "Following are possible sentence formation.\n",
      "1 Americans play Baseball.\n",
      "2 Americans play Cricket.\n",
      "3 Americans watch Baseball.\n",
      "4 Americans watch Cricket.\n",
      "5 Indians play Baseball.\n",
      "6 Indians play Cricket.\n",
      "7 Indians watch Baseball.\n",
      "8 Indians watch Cricket.\n",
      "9 Engineers play Baseball.\n",
      "10 Engineers play Cricket.\n",
      "11 Engineers watch Baseball.\n",
      "12 Engineers watch Cricket.\n"
     ]
    }
   ],
   "source": [
    "subjects= [\"Americans\",\"Indians\",\"Engineers\"]\n",
    "verbs = [\"play\",\"watch\"]\n",
    "objects=[\"Baseball\",\"Cricket\"]\n",
    "print(\"Following are possible sentence formation.\")\n",
    "n=0    \n",
    "for i in subjects:\n",
    "    for j in verbs:\n",
    "        for k in objects:\n",
    "            n +=1\n",
    "            print(n,i+\" \"+j+\" \"+k +\".\" )\n",
    "            "
   ]
  },
  {
   "cell_type": "code",
   "execution_count": null,
   "metadata": {},
   "outputs": [],
   "source": []
  }
 ],
 "metadata": {
  "kernelspec": {
   "display_name": "Python 3",
   "language": "python",
   "name": "python3"
  },
  "language_info": {
   "codemirror_mode": {
    "name": "ipython",
    "version": 3
   },
   "file_extension": ".py",
   "mimetype": "text/x-python",
   "name": "python",
   "nbconvert_exporter": "python",
   "pygments_lexer": "ipython3",
   "version": "3.8.5"
  }
 },
 "nbformat": 4,
 "nbformat_minor": 4
}
